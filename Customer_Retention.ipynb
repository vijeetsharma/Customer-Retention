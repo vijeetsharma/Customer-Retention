{
 "cells": [
  {
   "cell_type": "code",
   "execution_count": 1,
   "metadata": {},
   "outputs": [],
   "source": [
    "import pandas as pd\n",
    "import numpy as np\n",
    "import matplotlib.pyplot as plt\n",
    "import seaborn as sns\n",
    "from sklearn.preprocessing import StandardScaler\n",
    "import category_encoders as ce\n"
   ]
  },
  {
   "cell_type": "code",
   "execution_count": 2,
   "metadata": {},
   "outputs": [],
   "source": [
    "# data read \n",
    "df = pd.read_excel('DS_Intern_Assignment_-_2020.xlsx', sheet_name=1) \n",
    "citydf = pd.read_excel('DS_Intern_Assignment_-_2020.xlsx', sheet_name=2)"
   ]
  },
  {
   "cell_type": "code",
   "execution_count": 3,
   "metadata": {},
   "outputs": [
    {
     "data": {
      "text/plain": [
       "Employer_ID                    float64\n",
       "City_ID                          int64\n",
       "Contract_ID                      int64\n",
       "StartDate               datetime64[ns]\n",
       "EndDate                 datetime64[ns]\n",
       "Renewal_Flag                     int64\n",
       "Job_Slots                        int64\n",
       "Total_Contract_Value             int64\n",
       "Applications                     int64\n",
       "Apply_Start_Clicks               int64\n",
       "Click_Market_Value             float64\n",
       "Job_Listings                     int64\n",
       "dtype: object"
      ]
     },
     "execution_count": 3,
     "metadata": {},
     "output_type": "execute_result"
    }
   ],
   "source": [
    "# data type of each column\n",
    "inputData = df\n",
    "tempData  = inputData\n",
    "inputData.dtypes\n"
   ]
  },
  {
   "cell_type": "code",
   "execution_count": 4,
   "metadata": {},
   "outputs": [
    {
     "name": "stdout",
     "output_type": "stream",
     "text": [
      "Total no of unique clients 11458\n"
     ]
    }
   ],
   "source": [
    "# Total unique clients\n",
    "print(\"Total no of unique clients\",inputData['Employer_ID'].nunique())"
   ]
  },
  {
   "cell_type": "code",
   "execution_count": 5,
   "metadata": {},
   "outputs": [
    {
     "name": "stdout",
     "output_type": "stream",
     "text": [
      "Total no of clients 37757\n"
     ]
    }
   ],
   "source": [
    "# Total records \n",
    "print(\"Total no of clients\",inputData['Employer_ID'].count())"
   ]
  },
  {
   "cell_type": "code",
   "execution_count": 6,
   "metadata": {},
   "outputs": [
    {
     "data": {
      "text/plain": [
       "Employer_ID             0\n",
       "City_ID                 0\n",
       "Contract_ID             0\n",
       "StartDate               0\n",
       "EndDate                 0\n",
       "Renewal_Flag            0\n",
       "Job_Slots               0\n",
       "Total_Contract_Value    0\n",
       "Applications            0\n",
       "Apply_Start_Clicks      0\n",
       "Click_Market_Value      0\n",
       "Job_Listings            0\n",
       "dtype: int64"
      ]
     },
     "execution_count": 6,
     "metadata": {},
     "output_type": "execute_result"
    }
   ],
   "source": [
    "# Checking null values\n",
    "inputData.isnull().sum()"
   ]
  },
  {
   "cell_type": "code",
   "execution_count": 7,
   "metadata": {},
   "outputs": [
    {
     "data": {
      "text/html": [
       "<div>\n",
       "<style scoped>\n",
       "    .dataframe tbody tr th:only-of-type {\n",
       "        vertical-align: middle;\n",
       "    }\n",
       "\n",
       "    .dataframe tbody tr th {\n",
       "        vertical-align: top;\n",
       "    }\n",
       "\n",
       "    .dataframe thead th {\n",
       "        text-align: right;\n",
       "    }\n",
       "</style>\n",
       "<table border=\"1\" class=\"dataframe\">\n",
       "  <thead>\n",
       "    <tr style=\"text-align: right;\">\n",
       "      <th></th>\n",
       "      <th>Employer_ID</th>\n",
       "      <th>City_ID</th>\n",
       "      <th>Contract_ID</th>\n",
       "      <th>StartDate</th>\n",
       "      <th>EndDate</th>\n",
       "      <th>Renewal_Flag</th>\n",
       "      <th>Job_Slots</th>\n",
       "      <th>Total_Contract_Value</th>\n",
       "      <th>Applications</th>\n",
       "      <th>Apply_Start_Clicks</th>\n",
       "      <th>Click_Market_Value</th>\n",
       "      <th>Job_Listings</th>\n",
       "      <th>City_Name</th>\n",
       "      <th>State_ID</th>\n",
       "      <th>State_Name</th>\n",
       "    </tr>\n",
       "  </thead>\n",
       "  <tbody>\n",
       "    <tr>\n",
       "      <td>0</td>\n",
       "      <td>4.277920e+06</td>\n",
       "      <td>9767</td>\n",
       "      <td>2423796</td>\n",
       "      <td>2017-10-30</td>\n",
       "      <td>2017-11-30 23:59:59.000</td>\n",
       "      <td>1</td>\n",
       "      <td>15</td>\n",
       "      <td>995</td>\n",
       "      <td>215</td>\n",
       "      <td>255</td>\n",
       "      <td>15484.40</td>\n",
       "      <td>25</td>\n",
       "      <td>Kaser</td>\n",
       "      <td>NY</td>\n",
       "      <td>New York</td>\n",
       "    </tr>\n",
       "    <tr>\n",
       "      <td>1</td>\n",
       "      <td>1.747093e+06</td>\n",
       "      <td>9767</td>\n",
       "      <td>2123400</td>\n",
       "      <td>2017-07-19</td>\n",
       "      <td>2017-08-18 23:59:59.000</td>\n",
       "      <td>1</td>\n",
       "      <td>15</td>\n",
       "      <td>1745</td>\n",
       "      <td>20</td>\n",
       "      <td>145</td>\n",
       "      <td>3131.20</td>\n",
       "      <td>0</td>\n",
       "      <td>Kaser</td>\n",
       "      <td>NY</td>\n",
       "      <td>New York</td>\n",
       "    </tr>\n",
       "    <tr>\n",
       "      <td>2</td>\n",
       "      <td>2.833227e+06</td>\n",
       "      <td>9767</td>\n",
       "      <td>1895796</td>\n",
       "      <td>2017-04-22</td>\n",
       "      <td>2017-05-21 23:59:59.000</td>\n",
       "      <td>1</td>\n",
       "      <td>15</td>\n",
       "      <td>495</td>\n",
       "      <td>80</td>\n",
       "      <td>120</td>\n",
       "      <td>726.20</td>\n",
       "      <td>20</td>\n",
       "      <td>Kaser</td>\n",
       "      <td>NY</td>\n",
       "      <td>New York</td>\n",
       "    </tr>\n",
       "    <tr>\n",
       "      <td>3</td>\n",
       "      <td>1.827813e+06</td>\n",
       "      <td>9767</td>\n",
       "      <td>1283400</td>\n",
       "      <td>2016-08-03</td>\n",
       "      <td>2016-09-02 23:59:59.000</td>\n",
       "      <td>1</td>\n",
       "      <td>15</td>\n",
       "      <td>495</td>\n",
       "      <td>20</td>\n",
       "      <td>45</td>\n",
       "      <td>1852.10</td>\n",
       "      <td>0</td>\n",
       "      <td>Kaser</td>\n",
       "      <td>NY</td>\n",
       "      <td>New York</td>\n",
       "    </tr>\n",
       "    <tr>\n",
       "      <td>4</td>\n",
       "      <td>2.234880e+06</td>\n",
       "      <td>9767</td>\n",
       "      <td>2021376</td>\n",
       "      <td>2017-06-12</td>\n",
       "      <td>2017-07-11 23:59:59.000</td>\n",
       "      <td>1</td>\n",
       "      <td>15</td>\n",
       "      <td>745</td>\n",
       "      <td>85</td>\n",
       "      <td>95</td>\n",
       "      <td>2339.50</td>\n",
       "      <td>0</td>\n",
       "      <td>Kaser</td>\n",
       "      <td>NY</td>\n",
       "      <td>New York</td>\n",
       "    </tr>\n",
       "    <tr>\n",
       "      <td>5</td>\n",
       "      <td>2.329493e+06</td>\n",
       "      <td>9767</td>\n",
       "      <td>2647404</td>\n",
       "      <td>2018-01-11</td>\n",
       "      <td>2018-02-10 23:59:59.000</td>\n",
       "      <td>1</td>\n",
       "      <td>15</td>\n",
       "      <td>745</td>\n",
       "      <td>0</td>\n",
       "      <td>105</td>\n",
       "      <td>3771.65</td>\n",
       "      <td>20</td>\n",
       "      <td>Kaser</td>\n",
       "      <td>NY</td>\n",
       "      <td>New York</td>\n",
       "    </tr>\n",
       "    <tr>\n",
       "      <td>6</td>\n",
       "      <td>2.372987e+06</td>\n",
       "      <td>8585</td>\n",
       "      <td>2074128</td>\n",
       "      <td>2017-06-29</td>\n",
       "      <td>2017-07-29 23:59:59.000</td>\n",
       "      <td>0</td>\n",
       "      <td>50</td>\n",
       "      <td>1495</td>\n",
       "      <td>55</td>\n",
       "      <td>70</td>\n",
       "      <td>1719.30</td>\n",
       "      <td>50</td>\n",
       "      <td>Mexico</td>\n",
       "      <td>PA</td>\n",
       "      <td>Pennsylvania</td>\n",
       "    </tr>\n",
       "    <tr>\n",
       "      <td>7</td>\n",
       "      <td>6.374133e+06</td>\n",
       "      <td>8585</td>\n",
       "      <td>2601492</td>\n",
       "      <td>2017-12-24</td>\n",
       "      <td>2018-01-23 23:59:59.000</td>\n",
       "      <td>0</td>\n",
       "      <td>15</td>\n",
       "      <td>995</td>\n",
       "      <td>260</td>\n",
       "      <td>400</td>\n",
       "      <td>6631.70</td>\n",
       "      <td>0</td>\n",
       "      <td>Mexico</td>\n",
       "      <td>PA</td>\n",
       "      <td>Pennsylvania</td>\n",
       "    </tr>\n",
       "    <tr>\n",
       "      <td>8</td>\n",
       "      <td>5.354907e+06</td>\n",
       "      <td>8585</td>\n",
       "      <td>2352312</td>\n",
       "      <td>2017-10-06</td>\n",
       "      <td>2017-10-23 13:14:12.940</td>\n",
       "      <td>0</td>\n",
       "      <td>15</td>\n",
       "      <td>1245</td>\n",
       "      <td>30</td>\n",
       "      <td>45</td>\n",
       "      <td>1320.30</td>\n",
       "      <td>0</td>\n",
       "      <td>Mexico</td>\n",
       "      <td>PA</td>\n",
       "      <td>Pennsylvania</td>\n",
       "    </tr>\n",
       "    <tr>\n",
       "      <td>9</td>\n",
       "      <td>3.442213e+06</td>\n",
       "      <td>8585</td>\n",
       "      <td>2194572</td>\n",
       "      <td>2017-08-12</td>\n",
       "      <td>2017-09-08 21:29:21.847</td>\n",
       "      <td>0</td>\n",
       "      <td>15</td>\n",
       "      <td>1495</td>\n",
       "      <td>0</td>\n",
       "      <td>0</td>\n",
       "      <td>0.00</td>\n",
       "      <td>0</td>\n",
       "      <td>Mexico</td>\n",
       "      <td>PA</td>\n",
       "      <td>Pennsylvania</td>\n",
       "    </tr>\n",
       "  </tbody>\n",
       "</table>\n",
       "</div>"
      ],
      "text/plain": [
       "    Employer_ID  City_ID  Contract_ID  StartDate                 EndDate  \\\n",
       "0  4.277920e+06     9767      2423796 2017-10-30 2017-11-30 23:59:59.000   \n",
       "1  1.747093e+06     9767      2123400 2017-07-19 2017-08-18 23:59:59.000   \n",
       "2  2.833227e+06     9767      1895796 2017-04-22 2017-05-21 23:59:59.000   \n",
       "3  1.827813e+06     9767      1283400 2016-08-03 2016-09-02 23:59:59.000   \n",
       "4  2.234880e+06     9767      2021376 2017-06-12 2017-07-11 23:59:59.000   \n",
       "5  2.329493e+06     9767      2647404 2018-01-11 2018-02-10 23:59:59.000   \n",
       "6  2.372987e+06     8585      2074128 2017-06-29 2017-07-29 23:59:59.000   \n",
       "7  6.374133e+06     8585      2601492 2017-12-24 2018-01-23 23:59:59.000   \n",
       "8  5.354907e+06     8585      2352312 2017-10-06 2017-10-23 13:14:12.940   \n",
       "9  3.442213e+06     8585      2194572 2017-08-12 2017-09-08 21:29:21.847   \n",
       "\n",
       "   Renewal_Flag  Job_Slots  Total_Contract_Value  Applications  \\\n",
       "0             1         15                   995           215   \n",
       "1             1         15                  1745            20   \n",
       "2             1         15                   495            80   \n",
       "3             1         15                   495            20   \n",
       "4             1         15                   745            85   \n",
       "5             1         15                   745             0   \n",
       "6             0         50                  1495            55   \n",
       "7             0         15                   995           260   \n",
       "8             0         15                  1245            30   \n",
       "9             0         15                  1495             0   \n",
       "\n",
       "   Apply_Start_Clicks  Click_Market_Value  Job_Listings City_Name State_ID  \\\n",
       "0                 255            15484.40            25     Kaser       NY   \n",
       "1                 145             3131.20             0     Kaser       NY   \n",
       "2                 120              726.20            20     Kaser       NY   \n",
       "3                  45             1852.10             0     Kaser       NY   \n",
       "4                  95             2339.50             0     Kaser       NY   \n",
       "5                 105             3771.65            20     Kaser       NY   \n",
       "6                  70             1719.30            50    Mexico       PA   \n",
       "7                 400             6631.70             0    Mexico       PA   \n",
       "8                  45             1320.30             0    Mexico       PA   \n",
       "9                   0                0.00             0    Mexico       PA   \n",
       "\n",
       "     State_Name  \n",
       "0      New York  \n",
       "1      New York  \n",
       "2      New York  \n",
       "3      New York  \n",
       "4      New York  \n",
       "5      New York  \n",
       "6  Pennsylvania  \n",
       "7  Pennsylvania  \n",
       "8  Pennsylvania  \n",
       "9  Pennsylvania  "
      ]
     },
     "execution_count": 7,
     "metadata": {},
     "output_type": "execute_result"
    }
   ],
   "source": [
    "# Joining with the location data\n",
    "\n",
    "inputData = pd.merge(left = inputData,right =citydf)\n",
    "inputData.head(10)"
   ]
  },
  {
   "cell_type": "code",
   "execution_count": 8,
   "metadata": {},
   "outputs": [],
   "source": [
    "#converting STATE_ID column to string\n",
    "toString = ['State_ID']\n",
    "#toString = ['City_ID']\n",
    "inputData[toString] = inputData[toString].astype(str)"
   ]
  },
  {
   "cell_type": "code",
   "execution_count": 9,
   "metadata": {
    "scrolled": true
   },
   "outputs": [
    {
     "data": {
      "image/png": "[encoded data removed]",
      "text/plain": [
       "<Figure size 432x288 with 1 Axes>"
      ]
     },
     "metadata": {
      "needs_background": "light"
     },
     "output_type": "display_data"
    }
   ],
   "source": [
    "# Renewal vs non-renewal \n",
    "counts = inputData.Renewal_Flag.value_counts()\n",
    "sns.barplot(x = counts.index, y= counts)\n",
    "plt.title('Count of Renewal vs. Non-Renewal')\n",
    "plt.ylabel('Count')\n",
    "plt.xlabel('Class (0:Non-Renewal, 1:Renewal)')\n",
    "#plt.hist(inputData['Renewal_Flag'])\n",
    "plt.show()"
   ]
  },
  {
   "cell_type": "code",
   "execution_count": 10,
   "metadata": {},
   "outputs": [
    {
     "name": "stdout",
     "output_type": "stream",
     "text": [
      "Total companies which have renewed their contract -  26558\n",
      "Total companies which didn't renewed their contract -  11199\n"
     ]
    }
   ],
   "source": [
    "# Total no of renewals and non-renewals\n",
    "\n",
    "print(\"Total companies which have renewed their contract - \", (inputData['Renewal_Flag']==1).sum())\n",
    "print(\"Total companies which didn't renewed their contract - \",(inputData['Renewal_Flag']==0).sum())"
   ]
  },
  {
   "cell_type": "code",
   "execution_count": 11,
   "metadata": {},
   "outputs": [],
   "source": [
    "#creating meaningfull starting and ending contract period\n",
    "\n",
    "inputData['StartDate_Month'] = inputData['StartDate'].dt.month\n",
    "inputData['StartDate_Year'] = inputData['StartDate'].dt.year\n",
    "inputData['EndDate_Month'] = inputData['EndDate'].dt.month\n",
    "inputData['EndDate_Year'] = inputData['EndDate'].dt.year\n",
    "\n",
    "y = inputData['Renewal_Flag'] "
   ]
  },
  {
   "cell_type": "code",
   "execution_count": 12,
   "metadata": {},
   "outputs": [
    {
     "data": {
      "text/html": [
       "<div>\n",
       "<style scoped>\n",
       "    .dataframe tbody tr th:only-of-type {\n",
       "        vertical-align: middle;\n",
       "    }\n",
       "\n",
       "    .dataframe tbody tr th {\n",
       "        vertical-align: top;\n",
       "    }\n",
       "\n",
       "    .dataframe thead th {\n",
       "        text-align: right;\n",
       "    }\n",
       "</style>\n",
       "<table border=\"1\" class=\"dataframe\">\n",
       "  <thead>\n",
       "    <tr style=\"text-align: right;\">\n",
       "      <th></th>\n",
       "      <th>Job_Slots</th>\n",
       "      <th>Total_Contract_Value</th>\n",
       "      <th>Applications</th>\n",
       "      <th>Apply_Start_Clicks</th>\n",
       "      <th>Click_Market_Value</th>\n",
       "      <th>Job_Listings</th>\n",
       "      <th>State_ID</th>\n",
       "      <th>StartDate_Month</th>\n",
       "      <th>EndDate_Month</th>\n",
       "    </tr>\n",
       "  </thead>\n",
       "  <tbody>\n",
       "    <tr>\n",
       "      <td>0</td>\n",
       "      <td>15</td>\n",
       "      <td>995</td>\n",
       "      <td>215</td>\n",
       "      <td>255</td>\n",
       "      <td>15484.4</td>\n",
       "      <td>25</td>\n",
       "      <td>NY</td>\n",
       "      <td>10</td>\n",
       "      <td>11</td>\n",
       "    </tr>\n",
       "    <tr>\n",
       "      <td>1</td>\n",
       "      <td>15</td>\n",
       "      <td>1745</td>\n",
       "      <td>20</td>\n",
       "      <td>145</td>\n",
       "      <td>3131.2</td>\n",
       "      <td>0</td>\n",
       "      <td>NY</td>\n",
       "      <td>7</td>\n",
       "      <td>8</td>\n",
       "    </tr>\n",
       "    <tr>\n",
       "      <td>2</td>\n",
       "      <td>15</td>\n",
       "      <td>495</td>\n",
       "      <td>80</td>\n",
       "      <td>120</td>\n",
       "      <td>726.2</td>\n",
       "      <td>20</td>\n",
       "      <td>NY</td>\n",
       "      <td>4</td>\n",
       "      <td>5</td>\n",
       "    </tr>\n",
       "    <tr>\n",
       "      <td>3</td>\n",
       "      <td>15</td>\n",
       "      <td>495</td>\n",
       "      <td>20</td>\n",
       "      <td>45</td>\n",
       "      <td>1852.1</td>\n",
       "      <td>0</td>\n",
       "      <td>NY</td>\n",
       "      <td>8</td>\n",
       "      <td>9</td>\n",
       "    </tr>\n",
       "    <tr>\n",
       "      <td>4</td>\n",
       "      <td>15</td>\n",
       "      <td>745</td>\n",
       "      <td>85</td>\n",
       "      <td>95</td>\n",
       "      <td>2339.5</td>\n",
       "      <td>0</td>\n",
       "      <td>NY</td>\n",
       "      <td>6</td>\n",
       "      <td>7</td>\n",
       "    </tr>\n",
       "  </tbody>\n",
       "</table>\n",
       "</div>"
      ],
      "text/plain": [
       "   Job_Slots  Total_Contract_Value  Applications  Apply_Start_Clicks  \\\n",
       "0         15                   995           215                 255   \n",
       "1         15                  1745            20                 145   \n",
       "2         15                   495            80                 120   \n",
       "3         15                   495            20                  45   \n",
       "4         15                   745            85                  95   \n",
       "\n",
       "   Click_Market_Value  Job_Listings State_ID  StartDate_Month  EndDate_Month  \n",
       "0             15484.4            25       NY               10             11  \n",
       "1              3131.2             0       NY                7              8  \n",
       "2               726.2            20       NY                4              5  \n",
       "3              1852.1             0       NY                8              9  \n",
       "4              2339.5             0       NY                6              7  "
      ]
     },
     "execution_count": 12,
     "metadata": {},
     "output_type": "execute_result"
    }
   ],
   "source": [
    "# Droping non-meaningfull features \n",
    "\n",
    "toRemove = ['Contract_ID', 'Renewal_Flag','Employer_ID','StartDate','EndDate','StartDate_Year','EndDate_Year','City_ID', 'City_Name', 'State_Name','StartDate_Year', 'EndDate_Year']\n",
    "inputData = inputData.drop(toRemove, axis = 1)\n",
    "inputData.head()"
   ]
  },
  {
   "cell_type": "code",
   "execution_count": 13,
   "metadata": {},
   "outputs": [
    {
     "data": {
      "image/png": "[encoded data removed]",
      "text/plain": [
       "<Figure size 720x504 with 2 Axes>"
      ]
     },
     "metadata": {
      "needs_background": "light"
     },
     "output_type": "display_data"
    }
   ],
   "source": [
    "# heatmap to check correlation - multi colinearity\n",
    "\n",
    "numeric = inputData.select_dtypes(include = ['int64', 'float64']).columns\n",
    "corr = inputData[numeric].corr()\n",
    "\n",
    "plt.figure(figsize = (10, 7))\n",
    "\n",
    "sns.heatmap(corr)\n",
    "plt.show()"
   ]
  },
  {
   "cell_type": "code",
   "execution_count": 14,
   "metadata": {},
   "outputs": [
    {
     "data": {
      "text/html": [
       "<div>\n",
       "<style scoped>\n",
       "    .dataframe tbody tr th:only-of-type {\n",
       "        vertical-align: middle;\n",
       "    }\n",
       "\n",
       "    .dataframe tbody tr th {\n",
       "        vertical-align: top;\n",
       "    }\n",
       "\n",
       "    .dataframe thead th {\n",
       "        text-align: right;\n",
       "    }\n",
       "</style>\n",
       "<table border=\"1\" class=\"dataframe\">\n",
       "  <thead>\n",
       "    <tr style=\"text-align: right;\">\n",
       "      <th></th>\n",
       "      <th>Job_Slots</th>\n",
       "      <th>Total_Contract_Value</th>\n",
       "      <th>Applications</th>\n",
       "      <th>Apply_Start_Clicks</th>\n",
       "      <th>Click_Market_Value</th>\n",
       "      <th>Job_Listings</th>\n",
       "      <th>StartDate_Month</th>\n",
       "      <th>EndDate_Month</th>\n",
       "    </tr>\n",
       "  </thead>\n",
       "  <tbody>\n",
       "    <tr>\n",
       "      <td>Job_Slots</td>\n",
       "      <td>1.000000</td>\n",
       "      <td>0.501434</td>\n",
       "      <td>0.182335</td>\n",
       "      <td>0.261592</td>\n",
       "      <td>0.265866</td>\n",
       "      <td>0.278940</td>\n",
       "      <td>-0.000554</td>\n",
       "      <td>0.004385</td>\n",
       "    </tr>\n",
       "    <tr>\n",
       "      <td>Total_Contract_Value</td>\n",
       "      <td>0.501434</td>\n",
       "      <td>1.000000</td>\n",
       "      <td>0.217718</td>\n",
       "      <td>0.279212</td>\n",
       "      <td>0.308356</td>\n",
       "      <td>0.163160</td>\n",
       "      <td>-0.004968</td>\n",
       "      <td>-0.022181</td>\n",
       "    </tr>\n",
       "    <tr>\n",
       "      <td>Applications</td>\n",
       "      <td>0.182335</td>\n",
       "      <td>0.217718</td>\n",
       "      <td>1.000000</td>\n",
       "      <td>0.782202</td>\n",
       "      <td>0.602342</td>\n",
       "      <td>0.205414</td>\n",
       "      <td>0.015768</td>\n",
       "      <td>-0.005554</td>\n",
       "    </tr>\n",
       "    <tr>\n",
       "      <td>Apply_Start_Clicks</td>\n",
       "      <td>0.261592</td>\n",
       "      <td>0.279212</td>\n",
       "      <td>0.782202</td>\n",
       "      <td>1.000000</td>\n",
       "      <td>0.770510</td>\n",
       "      <td>0.312140</td>\n",
       "      <td>0.022098</td>\n",
       "      <td>-0.012641</td>\n",
       "    </tr>\n",
       "    <tr>\n",
       "      <td>Click_Market_Value</td>\n",
       "      <td>0.265866</td>\n",
       "      <td>0.308356</td>\n",
       "      <td>0.602342</td>\n",
       "      <td>0.770510</td>\n",
       "      <td>1.000000</td>\n",
       "      <td>0.276540</td>\n",
       "      <td>0.049370</td>\n",
       "      <td>-0.004587</td>\n",
       "    </tr>\n",
       "    <tr>\n",
       "      <td>Job_Listings</td>\n",
       "      <td>0.278940</td>\n",
       "      <td>0.163160</td>\n",
       "      <td>0.205414</td>\n",
       "      <td>0.312140</td>\n",
       "      <td>0.276540</td>\n",
       "      <td>1.000000</td>\n",
       "      <td>-0.038813</td>\n",
       "      <td>-0.023289</td>\n",
       "    </tr>\n",
       "    <tr>\n",
       "      <td>StartDate_Month</td>\n",
       "      <td>-0.000554</td>\n",
       "      <td>-0.004968</td>\n",
       "      <td>0.015768</td>\n",
       "      <td>0.022098</td>\n",
       "      <td>0.049370</td>\n",
       "      <td>-0.038813</td>\n",
       "      <td>1.000000</td>\n",
       "      <td>0.590168</td>\n",
       "    </tr>\n",
       "    <tr>\n",
       "      <td>EndDate_Month</td>\n",
       "      <td>0.004385</td>\n",
       "      <td>-0.022181</td>\n",
       "      <td>-0.005554</td>\n",
       "      <td>-0.012641</td>\n",
       "      <td>-0.004587</td>\n",
       "      <td>-0.023289</td>\n",
       "      <td>0.590168</td>\n",
       "      <td>1.000000</td>\n",
       "    </tr>\n",
       "  </tbody>\n",
       "</table>\n",
       "</div>"
      ],
      "text/plain": [
       "                      Job_Slots  Total_Contract_Value  Applications  \\\n",
       "Job_Slots              1.000000              0.501434      0.182335   \n",
       "Total_Contract_Value   0.501434              1.000000      0.217718   \n",
       "Applications           0.182335              0.217718      1.000000   \n",
       "Apply_Start_Clicks     0.261592              0.279212      0.782202   \n",
       "Click_Market_Value     0.265866              0.308356      0.602342   \n",
       "Job_Listings           0.278940              0.163160      0.205414   \n",
       "StartDate_Month       -0.000554             -0.004968      0.015768   \n",
       "EndDate_Month          0.004385             -0.022181     -0.005554   \n",
       "\n",
       "                      Apply_Start_Clicks  Click_Market_Value  Job_Listings  \\\n",
       "Job_Slots                       0.261592            0.265866      0.278940   \n",
       "Total_Contract_Value            0.279212            0.308356      0.163160   \n",
       "Applications                    0.782202            0.602342      0.205414   \n",
       "Apply_Start_Clicks              1.000000            0.770510      0.312140   \n",
       "Click_Market_Value              0.770510            1.000000      0.276540   \n",
       "Job_Listings                    0.312140            0.276540      1.000000   \n",
       "StartDate_Month                 0.022098            0.049370     -0.038813   \n",
       "EndDate_Month                  -0.012641           -0.004587     -0.023289   \n",
       "\n",
       "                      StartDate_Month  EndDate_Month  \n",
       "Job_Slots                   -0.000554       0.004385  \n",
       "Total_Contract_Value        -0.004968      -0.022181  \n",
       "Applications                 0.015768      -0.005554  \n",
       "Apply_Start_Clicks           0.022098      -0.012641  \n",
       "Click_Market_Value           0.049370      -0.004587  \n",
       "Job_Listings                -0.038813      -0.023289  \n",
       "StartDate_Month              1.000000       0.590168  \n",
       "EndDate_Month                0.590168       1.000000  "
      ]
     },
     "execution_count": 14,
     "metadata": {},
     "output_type": "execute_result"
    }
   ],
   "source": [
    "# collinearity for all the features\n",
    "\n",
    "corr"
   ]
  },
  {
   "cell_type": "code",
   "execution_count": 15,
   "metadata": {},
   "outputs": [],
   "source": [
    "# inputData.dtypes\n",
    "categorical = list(inputData.select_dtypes(include = ['object']).columns)\n",
    "numeric = list(inputData.select_dtypes(include = ['int64', 'float64']).columns)"
   ]
  },
  {
   "cell_type": "code",
   "execution_count": 16,
   "metadata": {
    "scrolled": false
   },
   "outputs": [
    {
     "data": {
      "text/html": [
       "<div>\n",
       "<style scoped>\n",
       "    .dataframe tbody tr th:only-of-type {\n",
       "        vertical-align: middle;\n",
       "    }\n",
       "\n",
       "    .dataframe tbody tr th {\n",
       "        vertical-align: top;\n",
       "    }\n",
       "\n",
       "    .dataframe thead th {\n",
       "        text-align: right;\n",
       "    }\n",
       "</style>\n",
       "<table border=\"1\" class=\"dataframe\">\n",
       "  <thead>\n",
       "    <tr style=\"text-align: right;\">\n",
       "      <th></th>\n",
       "      <th>Job_Slots</th>\n",
       "      <th>Total_Contract_Value</th>\n",
       "      <th>Applications</th>\n",
       "      <th>Apply_Start_Clicks</th>\n",
       "      <th>Click_Market_Value</th>\n",
       "      <th>Job_Listings</th>\n",
       "      <th>State_ID</th>\n",
       "      <th>StartDate_Month</th>\n",
       "      <th>EndDate_Month</th>\n",
       "    </tr>\n",
       "  </thead>\n",
       "  <tbody>\n",
       "    <tr>\n",
       "      <td>0</td>\n",
       "      <td>-0.239731</td>\n",
       "      <td>-0.062241</td>\n",
       "      <td>1.293977</td>\n",
       "      <td>0.689863</td>\n",
       "      <td>2.480265</td>\n",
       "      <td>2.396895</td>\n",
       "      <td>NY</td>\n",
       "      <td>0.946950</td>\n",
       "      <td>1.240523</td>\n",
       "    </tr>\n",
       "    <tr>\n",
       "      <td>1</td>\n",
       "      <td>-0.239731</td>\n",
       "      <td>1.372714</td>\n",
       "      <td>-0.211514</td>\n",
       "      <td>0.209138</td>\n",
       "      <td>0.117050</td>\n",
       "      <td>-0.403302</td>\n",
       "      <td>NY</td>\n",
       "      <td>0.094982</td>\n",
       "      <td>0.396734</td>\n",
       "    </tr>\n",
       "    <tr>\n",
       "      <td>2</td>\n",
       "      <td>-0.239731</td>\n",
       "      <td>-1.018877</td>\n",
       "      <td>0.251714</td>\n",
       "      <td>0.099882</td>\n",
       "      <td>-0.343036</td>\n",
       "      <td>1.836856</td>\n",
       "      <td>NY</td>\n",
       "      <td>-0.756987</td>\n",
       "      <td>-0.447054</td>\n",
       "    </tr>\n",
       "    <tr>\n",
       "      <td>3</td>\n",
       "      <td>-0.239731</td>\n",
       "      <td>-1.018877</td>\n",
       "      <td>-0.211514</td>\n",
       "      <td>-0.227885</td>\n",
       "      <td>-0.127647</td>\n",
       "      <td>-0.403302</td>\n",
       "      <td>NY</td>\n",
       "      <td>0.378971</td>\n",
       "      <td>0.677997</td>\n",
       "    </tr>\n",
       "    <tr>\n",
       "      <td>4</td>\n",
       "      <td>-0.239731</td>\n",
       "      <td>-0.540559</td>\n",
       "      <td>0.290317</td>\n",
       "      <td>-0.009374</td>\n",
       "      <td>-0.034405</td>\n",
       "      <td>-0.403302</td>\n",
       "      <td>NY</td>\n",
       "      <td>-0.189008</td>\n",
       "      <td>0.115471</td>\n",
       "    </tr>\n",
       "  </tbody>\n",
       "</table>\n",
       "</div>"
      ],
      "text/plain": [
       "   Job_Slots  Total_Contract_Value  Applications  Apply_Start_Clicks  \\\n",
       "0  -0.239731             -0.062241      1.293977            0.689863   \n",
       "1  -0.239731              1.372714     -0.211514            0.209138   \n",
       "2  -0.239731             -1.018877      0.251714            0.099882   \n",
       "3  -0.239731             -1.018877     -0.211514           -0.227885   \n",
       "4  -0.239731             -0.540559      0.290317           -0.009374   \n",
       "\n",
       "   Click_Market_Value  Job_Listings State_ID  StartDate_Month  EndDate_Month  \n",
       "0            2.480265      2.396895       NY         0.946950       1.240523  \n",
       "1            0.117050     -0.403302       NY         0.094982       0.396734  \n",
       "2           -0.343036      1.836856       NY        -0.756987      -0.447054  \n",
       "3           -0.127647     -0.403302       NY         0.378971       0.677997  \n",
       "4           -0.034405     -0.403302       NY        -0.189008       0.115471  "
      ]
     },
     "execution_count": 16,
     "metadata": {},
     "output_type": "execute_result"
    }
   ],
   "source": [
    "# scale numeric variables\n",
    "\n",
    "scaler = StandardScaler()\n",
    "inputData[numeric] = scaler.fit_transform(inputData[numeric])\n",
    "inputData.head()"
   ]
  },
  {
   "cell_type": "code",
   "execution_count": 17,
   "metadata": {},
   "outputs": [],
   "source": [
    "# Encode categorical variables\n",
    "\n",
    "encoders = {}\n",
    "for each in categorical:\n",
    "    encoder = ce.BinaryEncoder(cols=[each])\n",
    "    dfbin = encoder.fit_transform(inputData[each])\n",
    "    inputData = pd.concat([inputData, dfbin],axis = 1)\n",
    "    inputData = inputData.drop([each], axis = 1)\n"
   ]
  },
  {
   "cell_type": "code",
   "execution_count": 18,
   "metadata": {},
   "outputs": [],
   "source": [
    "# Model Testing (Encoding State_ID by One hot encoding)\n",
    "\n",
    "# from sklearn.preprocessing import OneHotEncoder\n",
    "# enc = OneHotEncoder(handle_unknown='ignore')\n",
    "# enc_df = pd.DataFrame(enc.fit_transform(inputData[['State_ID']]).toarray())\n",
    "# inputData = inputData.join(enc_df)\n",
    "# inputData.head(10)\n"
   ]
  },
  {
   "cell_type": "markdown",
   "metadata": {},
   "source": [
    "I have design a metric called Profit-per-application. It measures the profit of the client per application.\n",
    "$(Profit   per   application = Click Market   Value - Total   Contract   Value)  $"
   ]
  },
  {
   "cell_type": "code",
   "execution_count": 19,
   "metadata": {
    "scrolled": true
   },
   "outputs": [
    {
     "data": {
      "text/html": [
       "<div>\n",
       "<style scoped>\n",
       "    .dataframe tbody tr th:only-of-type {\n",
       "        vertical-align: middle;\n",
       "    }\n",
       "\n",
       "    .dataframe tbody tr th {\n",
       "        vertical-align: top;\n",
       "    }\n",
       "\n",
       "    .dataframe thead th {\n",
       "        text-align: right;\n",
       "    }\n",
       "</style>\n",
       "<table border=\"1\" class=\"dataframe\">\n",
       "  <thead>\n",
       "    <tr style=\"text-align: right;\">\n",
       "      <th></th>\n",
       "      <th>Employer_ID</th>\n",
       "      <th>City_ID</th>\n",
       "      <th>Contract_ID</th>\n",
       "      <th>StartDate</th>\n",
       "      <th>EndDate</th>\n",
       "      <th>Renewal_Flag</th>\n",
       "      <th>Job_Slots</th>\n",
       "      <th>Total_Contract_Value</th>\n",
       "      <th>Applications</th>\n",
       "      <th>Apply_Start_Clicks</th>\n",
       "      <th>Click_Market_Value</th>\n",
       "      <th>Job_Listings</th>\n",
       "      <th>Profit</th>\n",
       "    </tr>\n",
       "  </thead>\n",
       "  <tbody>\n",
       "    <tr>\n",
       "      <td>0</td>\n",
       "      <td>4.277920e+06</td>\n",
       "      <td>9767</td>\n",
       "      <td>2423796</td>\n",
       "      <td>2017-10-30 00:00:00.000</td>\n",
       "      <td>2017-11-30 23:59:59.000</td>\n",
       "      <td>1</td>\n",
       "      <td>15</td>\n",
       "      <td>995.0</td>\n",
       "      <td>215</td>\n",
       "      <td>255</td>\n",
       "      <td>15484.40</td>\n",
       "      <td>25</td>\n",
       "      <td>14489.40</td>\n",
       "    </tr>\n",
       "    <tr>\n",
       "      <td>1</td>\n",
       "      <td>2.372987e+06</td>\n",
       "      <td>8585</td>\n",
       "      <td>2074128</td>\n",
       "      <td>2017-06-29 00:00:00.000</td>\n",
       "      <td>2017-07-29 23:59:59.000</td>\n",
       "      <td>0</td>\n",
       "      <td>50</td>\n",
       "      <td>1495.0</td>\n",
       "      <td>55</td>\n",
       "      <td>70</td>\n",
       "      <td>1719.30</td>\n",
       "      <td>50</td>\n",
       "      <td>224.30</td>\n",
       "    </tr>\n",
       "    <tr>\n",
       "      <td>2</td>\n",
       "      <td>1.142693e+06</td>\n",
       "      <td>6665</td>\n",
       "      <td>1924740</td>\n",
       "      <td>2017-05-02 00:00:00.000</td>\n",
       "      <td>2017-06-02 23:59:59.000</td>\n",
       "      <td>0</td>\n",
       "      <td>15</td>\n",
       "      <td>495.0</td>\n",
       "      <td>45</td>\n",
       "      <td>95</td>\n",
       "      <td>1195.75</td>\n",
       "      <td>20</td>\n",
       "      <td>700.75</td>\n",
       "    </tr>\n",
       "    <tr>\n",
       "      <td>3</td>\n",
       "      <td>1.353893e+06</td>\n",
       "      <td>5165</td>\n",
       "      <td>1942512</td>\n",
       "      <td>2017-05-09 00:00:00.000</td>\n",
       "      <td>2017-06-06 23:59:59.000</td>\n",
       "      <td>0</td>\n",
       "      <td>15</td>\n",
       "      <td>995.0</td>\n",
       "      <td>155</td>\n",
       "      <td>175</td>\n",
       "      <td>1197.35</td>\n",
       "      <td>20</td>\n",
       "      <td>202.35</td>\n",
       "    </tr>\n",
       "    <tr>\n",
       "      <td>4</td>\n",
       "      <td>9.224267e+05</td>\n",
       "      <td>3882</td>\n",
       "      <td>1380984</td>\n",
       "      <td>2016-09-19 15:14:21.707</td>\n",
       "      <td>2016-10-20 15:14:20.707</td>\n",
       "      <td>1</td>\n",
       "      <td>15</td>\n",
       "      <td>745.0</td>\n",
       "      <td>150</td>\n",
       "      <td>185</td>\n",
       "      <td>8889.70</td>\n",
       "      <td>20</td>\n",
       "      <td>8144.70</td>\n",
       "    </tr>\n",
       "  </tbody>\n",
       "</table>\n",
       "</div>"
      ],
      "text/plain": [
       "    Employer_ID  City_ID  Contract_ID               StartDate  \\\n",
       "0  4.277920e+06     9767      2423796 2017-10-30 00:00:00.000   \n",
       "1  2.372987e+06     8585      2074128 2017-06-29 00:00:00.000   \n",
       "2  1.142693e+06     6665      1924740 2017-05-02 00:00:00.000   \n",
       "3  1.353893e+06     5165      1942512 2017-05-09 00:00:00.000   \n",
       "4  9.224267e+05     3882      1380984 2016-09-19 15:14:21.707   \n",
       "\n",
       "                  EndDate  Renewal_Flag  Job_Slots  Total_Contract_Value  \\\n",
       "0 2017-11-30 23:59:59.000             1         15                 995.0   \n",
       "1 2017-07-29 23:59:59.000             0         50                1495.0   \n",
       "2 2017-06-02 23:59:59.000             0         15                 495.0   \n",
       "3 2017-06-06 23:59:59.000             0         15                 995.0   \n",
       "4 2016-10-20 15:14:20.707             1         15                 745.0   \n",
       "\n",
       "   Applications  Apply_Start_Clicks  Click_Market_Value  Job_Listings  \\\n",
       "0           215                 255            15484.40            25   \n",
       "1            55                  70             1719.30            50   \n",
       "2            45                  95             1195.75            20   \n",
       "3           155                 175             1197.35            20   \n",
       "4           150                 185             8889.70            20   \n",
       "\n",
       "     Profit  \n",
       "0  14489.40  \n",
       "1    224.30  \n",
       "2    700.75  \n",
       "3    202.35  \n",
       "4   8144.70  "
      ]
     },
     "execution_count": 19,
     "metadata": {},
     "output_type": "execute_result"
    }
   ],
   "source": [
    "tempData['Total_Contract_Value'] = tempData['Total_Contract_Value'].astype(float)\n",
    "tempData['Profit'] = (tempData['Click_Market_Value'] - tempData['Total_Contract_Value']) \n",
    "tempData.head()"
   ]
  },
  {
   "cell_type": "markdown",
   "metadata": {},
   "source": [
    "##  Performance by Job Slot"
   ]
  },
  {
   "cell_type": "code",
   "execution_count": 20,
   "metadata": {},
   "outputs": [
    {
     "data": {
      "text/plain": [
       "<matplotlib.axes._subplots.AxesSubplot at 0x1b29a57e408>"
      ]
     },
     "execution_count": 20,
     "metadata": {},
     "output_type": "execute_result"
    },
    {
     "data": {
      "image/png": "[encoded data removed]",
      "text/plain": [
       "<Figure size 1440x648 with 1 Axes>"
      ]
     },
     "metadata": {
      "needs_background": "light"
     },
     "output_type": "display_data"
    }
   ],
   "source": [
    "plt.figure(figsize=(20,9))\n",
    "sns.set(style='darkgrid')\n",
    "sns.lineplot(x='Profit', y='Job_Slots', data=tempData)"
   ]
  },
  {
   "cell_type": "code",
   "execution_count": 21,
   "metadata": {},
   "outputs": [
    {
     "data": {
      "text/html": [
       "<div>\n",
       "<style scoped>\n",
       "    .dataframe tbody tr th:only-of-type {\n",
       "        vertical-align: middle;\n",
       "    }\n",
       "\n",
       "    .dataframe tbody tr th {\n",
       "        vertical-align: top;\n",
       "    }\n",
       "\n",
       "    .dataframe thead th {\n",
       "        text-align: right;\n",
       "    }\n",
       "</style>\n",
       "<table border=\"1\" class=\"dataframe\">\n",
       "  <thead>\n",
       "    <tr style=\"text-align: right;\">\n",
       "      <th></th>\n",
       "      <th>Job_Slots</th>\n",
       "      <th>Profit</th>\n",
       "    </tr>\n",
       "  </thead>\n",
       "  <tbody>\n",
       "    <tr>\n",
       "      <td>Job_Slots</td>\n",
       "      <td>1.000000</td>\n",
       "      <td>0.221528</td>\n",
       "    </tr>\n",
       "    <tr>\n",
       "      <td>Profit</td>\n",
       "      <td>0.221528</td>\n",
       "      <td>1.000000</td>\n",
       "    </tr>\n",
       "  </tbody>\n",
       "</table>\n",
       "</div>"
      ],
      "text/plain": [
       "           Job_Slots    Profit\n",
       "Job_Slots   1.000000  0.221528\n",
       "Profit      0.221528  1.000000"
      ]
     },
     "execution_count": 21,
     "metadata": {},
     "output_type": "execute_result"
    }
   ],
   "source": [
    "# Co-relation between Profit_per_Application and Job Slot\n",
    "job = ['Job_Slots','Profit']\n",
    "tempData[job].corr()"
   ]
  },
  {
   "cell_type": "markdown",
   "metadata": {},
   "source": [
    "## Performance by Total_Contract_Value"
   ]
  },
  {
   "cell_type": "code",
   "execution_count": null,
   "metadata": {},
   "outputs": [],
   "source": [
    "plt.figure(figsize=(20,9))\n",
    "sns.set(style='darkgrid')\n",
    "sns.lineplot(x='Profit', y='Total_Contract_Value', data=tempData)"
   ]
  },
  {
   "cell_type": "code",
   "execution_count": null,
   "metadata": {},
   "outputs": [],
   "source": [
    "# Co-relation between Profit_per_Application and Total_Contract_Value\n",
    "contract = ['Total_Contract_Value','Profit']\n",
    "tempData[contract].corr()"
   ]
  },
  {
   "cell_type": "markdown",
   "metadata": {},
   "source": [
    "##  Performance by Click_Market_Value\n"
   ]
  },
  {
   "cell_type": "code",
   "execution_count": null,
   "metadata": {},
   "outputs": [],
   "source": [
    "plt.figure(figsize=(20,9))\n",
    "sns.set(style='darkgrid')\n",
    "sns.lineplot(x='Profit', y='Click_Market_Value', data=tempData)"
   ]
  },
  {
   "cell_type": "code",
   "execution_count": null,
   "metadata": {},
   "outputs": [],
   "source": [
    "# Co-relation between Profit_per_Application and Job Slot\n",
    "market = ['Click_Market_Value','Profit']\n",
    "tempData[market].corr()"
   ]
  },
  {
   "cell_type": "code",
   "execution_count": null,
   "metadata": {},
   "outputs": [],
   "source": [
    "# Split data into training and testing datasets\n",
    "\n",
    "from sklearn.model_selection import train_test_split\n",
    "X_train, X_test, y_train, y_test = train_test_split(inputData, y, test_size=0.2, random_state=123)"
   ]
  },
  {
   "cell_type": "code",
   "execution_count": null,
   "metadata": {},
   "outputs": [],
   "source": [
    "from sklearn.model_selection import GridSearchCV\n",
    "from sklearn.model_selection import KFold\n",
    "from sklearn.model_selection import cross_val_score, cross_validate\n",
    "from sklearn.metrics import roc_auc_score\n",
    "from sklearn.metrics import classification_report\n",
    "from sklearn.metrics import confusion_matrix\n",
    "from sklearn.metrics import accuracy_score, precision_score, recall_score, f1_score, confusion_matrix\n",
    "from sklearn.linear_model import LogisticRegression, ElasticNetCV, SGDClassifier\n",
    "from sklearn.discriminant_analysis import LinearDiscriminantAnalysis\n",
    "from sklearn.neighbors import KNeighborsClassifier\n",
    "from sklearn.tree import DecisionTreeClassifier\n",
    "from sklearn.svm import SVC\n",
    "from xgboost import XGBClassifier\n",
    "from sklearn.ensemble import RandomForestClassifier\n",
    "from sklearn.preprocessing import MinMaxScaler\n",
    "from sklearn.ensemble import AdaBoostClassifier\n"
   ]
  },
  {
   "cell_type": "code",
   "execution_count": null,
   "metadata": {
    "scrolled": false
   },
   "outputs": [],
   "source": [
    "models = {}\n",
    "models['LR'] = LogisticRegression(max_iter = 10000, solver = 'liblinear')\n",
    "#models['LDA'] = LinearDiscriminantAnalysis()\n",
    "#models['KNN'] = KNeighborsClassifier()\n",
    "models['CART'] = DecisionTreeClassifier()\n",
    "models['XGB'] = XGBClassifier()\n",
    "models['RF'] = RandomForestClassifier(n_estimators=100)\n",
    "models['ADA'] = AdaBoostClassifier()\n",
    "#models['RidgeRegression'] = LogisticRegression(penalty = 'elasticnet', max_iter = 10000, solver = 'saga', l1_ratio = 0.1)\n",
    "\n",
    "\n",
    "results = []\n",
    "names = []\n",
    "\n",
    "scoring = {'acc':'accuracy', 'precision':'precision', 'recall':'recall', 'f1':'f1'}\n",
    "\n",
    "for name, model in models.items():\n",
    "    kfold = KFold(n_splits = 10)\n",
    "    #cv_results = cross_val_score(model, X_train, y_train, cv = kfold, scoring = 'f1')\n",
    "    scores = cross_validate(model, X_train, y_train, cv = kfold, scoring = scoring, return_train_score = True, return_estimator = True)\n",
    "    results.append(scores)\n",
    "    names.append(name)\n",
    "    #print(name, \":\", scores)#, \"(\", scores, \")\"\n",
    "    print(name)\n",
    "    for key, value in scores.items():\n",
    "        if(key == 'estimator'):\n",
    "            print('Model Fitted')\n",
    "            models[name] = value\n",
    "        else:\n",
    "            print(key, ':', value.mean())\n",
    "    print(\"***************************************\")"
   ]
  },
  {
   "cell_type": "markdown",
   "metadata": {},
   "source": [
    "## Extra - Tree Classifier for Variable Selection"
   ]
  },
  {
   "cell_type": "code",
   "execution_count": null,
   "metadata": {},
   "outputs": [],
   "source": [
    "# Feature Importance\n",
    "\n",
    "from sklearn.ensemble import ExtraTreesClassifier\n",
    "\n",
    "extra_tree_forest = ExtraTreesClassifier(n_estimators = 10, criterion ='entropy', max_features = 5)\n",
    "#X = inputData[columns]\n",
    "\n",
    "extra_tree_forest.fit(X_train, y_train)\n",
    "#extra_tree_forest.fit(X, y)\n",
    "\n",
    "cols = list(inputData.columns)\n",
    "feature_importance = extra_tree_forest.feature_importances_\n",
    "plt.figure(figsize = (10, 7))\n",
    "fig = sns.barplot(cols, feature_importance)\n",
    "plt.xlabel('Feature Labels') \n",
    "plt.ylabel('Feature Importances') \n",
    "plt.title('Comparison of different Feature Importances')\n",
    "fig.set_xticklabels(cols, rotation = 90)\n",
    "plt.show() "
   ]
  },
  {
   "cell_type": "markdown",
   "metadata": {},
   "source": [
    "I have used Extra Tree classifier to find the most important features. From the graph, we can say that Click_Market_Value, Total_Contract_Value, Applications, Apply_start_click are the major features that would help in retaining the customer. "
   ]
  },
  {
   "cell_type": "markdown",
   "metadata": {},
   "source": [
    "- I have taken state as a feature in the modelling process because some states are very big and there can be so many jobs in larger states as compared to other states and as state is a categorical variable, I have encoded the state using binary encoding. \n",
    "- I have also taken start_month of the contract and end_month of the contract into account beacuse as we see in real-life, hiring occurs more in the period of December- March and May- August. So because of such type of trends, I feel start_month and end_month plays a vital role.\n",
    "- I have used K-Fold Cross Validation because we need a method that provides ample data for training the model and also leaves ample data for validation. This significantly reduces bias as we are using most of the data for fitting, and also significantly reduces variance as most of the data is also being used in validation set.\n",
    "- I have used various models for the retention analysis but we can see from the results that XGBoost performs best among all the models. Parallel Processing, Regularization, Hnadling Missing Values are some of the reasons XGBoost performs better than the other models. It also reduces variances and bias, that's why it gives better results than other models."
   ]
  },
  {
   "cell_type": "markdown",
   "metadata": {},
   "source": [
    "As customers are very important to retain for the glassdoor,so missclassification can create a problem. Glassdoor will use the resources to retain the leaving customer, so prediction should be as accurate as poosible. Otherwise, missclassfication can lead to loss for GlassDoor. As a result, I am taking F1 score as a measure to predict retention. The F1 score for XGBoost is highest among all the models. "
   ]
  },
  {
   "cell_type": "markdown",
   "metadata": {},
   "source": [
    "## The F1 score XGBoost  for is 88.06% "
   ]
  },
  {
   "cell_type": "markdown",
   "metadata": {},
   "source": [
    "I want to take other factors into consideration while performing the retention analysis.  \n",
    "\n",
    "- Job_Category\n",
    "- Company_Branding\n",
    "- Company_Bussiness\n",
    "\n",
    "The above mentioned factors should also be taken into consideration for the prediction of the renewal of their contract.\n",
    "Job_Category- what kind of job is posted on the glassdoor. For ex:- Talent Acquistion Mangager, software Engineer, Data Scientist. I think Job_Category plays a important role for the prediction process. Company_Branding- branding of the company should be taken into account. For ex: big companies like facebook, google and amazon are hiring frequently and they will most likely renew their contract and Company_Bussiness should also be taken into account while prediction. It is vital to know in What kind of bussiness, company is been working. For ex:- Health, IT, Automobile etc. "
   ]
  },
  {
   "cell_type": "markdown",
   "metadata": {},
   "source": [
    "Additional data gathering can help in improving the retention.\n",
    "\n",
    "- Job Category and Experience level should also be considered in our data model. Jobs should be filtered out on different job categories like Technical, Bussiness Excutive, Store Attendent. Addtionally, Experience level can be categorized into internship, Senior, entry level. By considering these factors, we can find out where the problem is and what GlassDoor can do to solve that problem for the retention of the customer.\n",
    "\n",
    "- GlassDoor can also collect the user attributes and categorize the users into different categories such as age group, prefernce etc. By doing this, user can easily apply to the particular jobs and clients of the GlassDoor benefits from this.\n",
    "\n",
    "- Many of the companies have much higher apply_clicks than applications. This happens because sometimes some links don't work or it takes too much of time to apply to those companies. So GlassDoor can prepare a metric and give that metric to the client, stating the problem and by solving the problem, client and GlassDoor can both benfit from this."
   ]
  },
  {
   "cell_type": "code",
   "execution_count": null,
   "metadata": {},
   "outputs": [],
   "source": []
  }
 ],
 "metadata": {
  "kernelspec": {
   "display_name": "Python 3",
   "language": "python",
   "name": "python3"
  },
  "language_info": {
   "codemirror_mode": {
    "name": "ipython",
    "version": 3
   },
   "file_extension": ".py",
   "mimetype": "text/x-python",
   "name": "python",
   "nbconvert_exporter": "python",
   "pygments_lexer": "ipython3",
   "version": "3.7.4"
  }
 },
 "nbformat": 4,
 "nbformat_minor": 2
}
